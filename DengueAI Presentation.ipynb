{
 "cells": [
  {
   "cell_type": "code",
   "execution_count": 1,
   "metadata": {
    "collapsed": true,
    "slideshow": {
     "slide_type": "slide"
    }
   },
   "outputs": [],
   "source": [
    "import tensorflow as tf\n",
    "import pandas as pd\n",
    "import numpy as np\n",
    "from sklearn import datasets\n",
    "from sklearn.model_selection import train_test_split\n",
    "from sklearn import metrics\n",
    "from sklearn import model_selection\n",
    "from sklearn.metrics import mean_absolute_error\n",
    "tf.logging.set_verbosity(tf.logging.ERROR)\n",
    "RANDOM_SEED = 39\n",
    "tf.set_random_seed(RANDOM_SEED)"
   ]
  },
  {
   "cell_type": "code",
   "execution_count": 2,
   "metadata": {
    "collapsed": true,
    "slideshow": {
     "slide_type": "slide"
    }
   },
   "outputs": [],
   "source": [
    "#Correspond to selected indices in get_features_methods\n",
    "features = [\n",
    "    'precipitation_amt_mm'\n",
    "    'reanalysis_specific_humidity_g_per_kg', \n",
    "    'reanalysis_dew_point_temp_k', \n",
    "    'station_avg_temp_c', \n",
    "    'reanalysis_min_air_temp_k',\n",
    "    'reanalysis_tdtr_k',\n",
    "]\n",
    "\n",
    "def get_features_sj():\n",
    "    train_features = pd.read_csv('dengue_features_train.csv',\n",
    "                             index_col=[0,1,2])\n",
    "\n",
    "    train_labels = pd.read_csv('dengue_labels_train.csv',\n",
    "                           index_col=[0,1,2])\n",
    "\n",
    "    sj_train_features = train_features.loc['sj']\n",
    "    sj_train_labels = train_labels.loc['sj']\n",
    "\n",
    "    sj_train_features.drop('week_start_date', axis=1, inplace=True)\n",
    "    sj_train_features.fillna(method='ffill', inplace=True)\n",
    "\n",
    "    sj_train_features = sj_train_features.as_matrix()[:,[4, 7, 10, 11, 15, 16, 19]]\n",
    "    sj_train_labels = sj_train_labels.as_matrix()\n",
    "\n",
    "    return sj_train_features, sj_train_labels\n",
    "\n",
    "def get_features_iq():\n",
    "    train_features = pd.read_csv('dengue_features_train.csv',\n",
    "                             index_col=[0,1,2])\n",
    "\n",
    "    train_labels = pd.read_csv('dengue_labels_train.csv',\n",
    "                           index_col=[0,1,2])\n",
    "\n",
    "    iq_train_features = train_features.loc['iq']\n",
    "    iq_train_labels = train_labels.loc['iq']\n",
    "\n",
    "    iq_train_features.drop('week_start_date', axis=1, inplace=True)\n",
    "    iq_train_features.fillna(method='ffill', inplace=True)\n",
    "\n",
    "    iq_train_features = iq_train_features.as_matrix()[:, [4, 7, 10, 11, 15, 16, 19]]\n",
    "    iq_train_labels = iq_train_labels.as_matrix()\n",
    "    \n",
    "    return iq_train_features, iq_train_labels"
   ]
  },
  {
   "cell_type": "code",
   "execution_count": 3,
   "metadata": {
    "collapsed": true,
    "slideshow": {
     "slide_type": "slide"
    }
   },
   "outputs": [],
   "source": [
    "def get_data_sj():\n",
    "    \n",
    "    sj_train_features, sj_train_labels = get_features_sj()\n",
    "    return train_test_split(sj_train_features, sj_train_labels, test_size=0.1, random_state=RANDOM_SEED)\n",
    "\n",
    "def get_data_iq():\n",
    "    \n",
    "    iq_train_features, iq_train_labels = get_features_iq()\n",
    "    return train_test_split(iq_train_features, iq_train_labels, test_size=0.1, random_state=RANDOM_SEED)"
   ]
  },
  {
   "cell_type": "code",
   "execution_count": 4,
   "metadata": {
    "collapsed": false,
    "slideshow": {
     "slide_type": "slide"
    }
   },
   "outputs": [
    {
     "name": "stderr",
     "output_type": "stream",
     "text": [
      "/Users/ericweltz/anaconda3/lib/python3.6/site-packages/ipykernel/__main__.py:21: SettingWithCopyWarning: \n",
      "A value is trying to be set on a copy of a slice from a DataFrame\n",
      "\n",
      "See the caveats in the documentation: http://pandas.pydata.org/pandas-docs/stable/indexing.html#indexing-view-versus-copy\n",
      "/Users/ericweltz/anaconda3/lib/python3.6/site-packages/pandas/core/frame.py:2842: SettingWithCopyWarning: \n",
      "A value is trying to be set on a copy of a slice from a DataFrame\n",
      "\n",
      "See the caveats in the documentation: http://pandas.pydata.org/pandas-docs/stable/indexing.html#indexing-view-versus-copy\n",
      "  downcast=downcast, **kwargs)\n",
      "/Users/ericweltz/anaconda3/lib/python3.6/site-packages/ipykernel/__main__.py:39: SettingWithCopyWarning: \n",
      "A value is trying to be set on a copy of a slice from a DataFrame\n",
      "\n",
      "See the caveats in the documentation: http://pandas.pydata.org/pandas-docs/stable/indexing.html#indexing-view-versus-copy\n"
     ]
    }
   ],
   "source": [
    "#SJ data\n",
    "train_X, test_X, train_y, test_y = get_data_sj()\n",
    "\n",
    "#IQ data\n",
    "train_X2, test_X2, train_y2, test_y2 = get_data_iq()"
   ]
  },
  {
   "cell_type": "code",
   "execution_count": 5,
   "metadata": {
    "collapsed": false,
    "slideshow": {
     "slide_type": "slide"
    }
   },
   "outputs": [],
   "source": [
    "feature_columns = tf.contrib.learn.infer_real_valued_columns_from_input(train_X)\n",
    "feature_columns2 = tf.contrib.learn.infer_real_valued_columns_from_input(train_X2)\n",
    "\n",
    "\n",
    "# SJ model\n",
    "classifier = tf.contrib.learn.DNNRegressor(feature_columns=feature_columns,\n",
    "                                           hidden_units=[128, 64, 32], \n",
    "                                           optimizer=tf.train.ProximalAdagradOptimizer(\n",
    "                                               learning_rate=0.1,\n",
    "                                               l2_regularization_strength=0.001),\n",
    "                                          )\n",
    "\n",
    "#IQ model                                   \n",
    "classifier2 = tf.contrib.learn.DNNRegressor(feature_columns=feature_columns2,\n",
    "                                           hidden_units=[300, 200, 100],\n",
    "                                           optimizer=tf.train.ProximalAdagradOptimizer(\n",
    "                                               learning_rate=0.1,\n",
    "                                               l2_regularization_strength=0.001),  \n",
    "                                           )"
   ]
  },
  {
   "cell_type": "code",
   "execution_count": 6,
   "metadata": {
    "collapsed": false,
    "slideshow": {
     "slide_type": "slide"
    }
   },
   "outputs": [
    {
     "name": "stderr",
     "output_type": "stream",
     "text": [
      "/Users/ericweltz/anaconda3/lib/python3.6/site-packages/tensorflow/python/util/deprecation.py:248: FutureWarning: comparison to `None` will result in an elementwise object comparison in the future.\n",
      "  equality = a == b\n"
     ]
    },
    {
     "data": {
      "text/plain": [
       "DNNRegressor(params={'head': <tensorflow.contrib.learn.python.learn.estimators.head._RegressionHead object at 0x1196fe9e8>, 'hidden_units': [300, 200, 100], 'feature_columns': (_RealValuedColumn(column_name='', dimension=7, default_value=None, dtype=tf.float64, normalizer=None),), 'optimizer': <tensorflow.python.training.proximal_adagrad.ProximalAdagradOptimizer object at 0x116def4e0>, 'activation_fn': <function relu at 0x111e14488>, 'dropout': None, 'gradient_clip_norm': None, 'embedding_lr_multipliers': None, 'input_layer_min_slice_size': None})"
      ]
     },
     "execution_count": 6,
     "metadata": {},
     "output_type": "execute_result"
    }
   ],
   "source": [
    "# Fit and predict.\n",
    "classifier.fit(train_X, train_y, steps=2000)\n",
    "classifier2.fit(train_X2, train_y2, steps=200)"
   ]
  },
  {
   "cell_type": "code",
   "execution_count": 7,
   "metadata": {
    "collapsed": false,
    "slideshow": {
     "slide_type": "slide"
    }
   },
   "outputs": [
    {
     "name": "stderr",
     "output_type": "stream",
     "text": [
      "/Users/ericweltz/anaconda3/lib/python3.6/site-packages/tensorflow/python/util/deprecation.py:248: FutureWarning: comparison to `None` will result in an elementwise object comparison in the future.\n",
      "  equality = a == b\n"
     ]
    },
    {
     "name": "stdout",
     "output_type": "stream",
     "text": [
      "Accuracy SJ: 22.558536\n",
      "Accuracy IQ: 6.108762\n"
     ]
    }
   ],
   "source": [
    "# Predict and print error\n",
    "predictions = list(classifier.predict(test_X, as_iterable=True))\n",
    "score = metrics.mean_absolute_error(test_y, predictions)\n",
    "print('Accuracy SJ: {0:f}'.format(score))\n",
    "predictions2 = list(classifier2.predict(test_X2, as_iterable=True))\n",
    "score2 = metrics.mean_absolute_error(test_y2, predictions2)\n",
    "print('Accuracy IQ: {0:f}'.format(score2))"
   ]
  },
  {
   "cell_type": "code",
   "execution_count": 8,
   "metadata": {
    "collapsed": false,
    "slideshow": {
     "slide_type": "slide"
    }
   },
   "outputs": [
    {
     "data": {
      "image/png": "[encoded data removed]",
      "text/plain": [
       "<matplotlib.figure.Figure at 0x11ad519b0>"
      ]
     },
     "metadata": {},
     "output_type": "display_data"
    }
   ],
   "source": [
    "#SJ test graph\n",
    "from pandas import Series\n",
    "from matplotlib import pyplot\n",
    "series = Series.from_array(predictions)\n",
    "series2 = Series.from_array(np.squeeze(test_y))\n",
    "series.plot()\n",
    "series2.plot()\n",
    "pyplot.show()"
   ]
  },
  {
   "cell_type": "code",
   "execution_count": 9,
   "metadata": {
    "collapsed": false,
    "slideshow": {
     "slide_type": "slide"
    }
   },
   "outputs": [
    {
     "data": {
      "image/png": "[encoded data removed]",
      "text/plain": [
       "<matplotlib.figure.Figure at 0x11e744b00>"
      ]
     },
     "metadata": {},
     "output_type": "display_data"
    }
   ],
   "source": [
    "#IQ test graph\n",
    "series3 = Series.from_array(predictions2)\n",
    "series4 = Series.from_array(np.squeeze(test_y2))\n",
    "series3.plot()\n",
    "series4.plot()\n",
    "pyplot.show()"
   ]
  },
  {
   "cell_type": "code",
   "execution_count": 10,
   "metadata": {
    "collapsed": false,
    "slideshow": {
     "slide_type": "slide"
    }
   },
   "outputs": [
    {
     "name": "stderr",
     "output_type": "stream",
     "text": [
      "/Users/ericweltz/anaconda3/lib/python3.6/site-packages/ipykernel/__main__.py:9: SettingWithCopyWarning: \n",
      "A value is trying to be set on a copy of a slice from a DataFrame\n",
      "\n",
      "See the caveats in the documentation: http://pandas.pydata.org/pandas-docs/stable/indexing.html#indexing-view-versus-copy\n",
      "/Users/ericweltz/anaconda3/lib/python3.6/site-packages/ipykernel/__main__.py:10: SettingWithCopyWarning: \n",
      "A value is trying to be set on a copy of a slice from a DataFrame\n",
      "\n",
      "See the caveats in the documentation: http://pandas.pydata.org/pandas-docs/stable/indexing.html#indexing-view-versus-copy\n",
      "/Users/ericweltz/anaconda3/lib/python3.6/site-packages/pandas/core/frame.py:2842: SettingWithCopyWarning: \n",
      "A value is trying to be set on a copy of a slice from a DataFrame\n",
      "\n",
      "See the caveats in the documentation: http://pandas.pydata.org/pandas-docs/stable/indexing.html#indexing-view-versus-copy\n",
      "  downcast=downcast, **kwargs)\n",
      "/Users/ericweltz/anaconda3/lib/python3.6/site-packages/tensorflow/python/util/deprecation.py:248: FutureWarning: comparison to `None` will result in an elementwise object comparison in the future.\n",
      "  equality = a == b\n"
     ]
    }
   ],
   "source": [
    "# Get test features and predict\n",
    "test_features = pd.read_csv('dengue_features_test.csv',\n",
    "                             index_col=[0,1,2])\n",
    "\n",
    "sj_test_features = test_features.loc['sj']\n",
    "\n",
    "iq_test_features = test_features.loc['iq']\n",
    "\n",
    "sj_test_features.drop('week_start_date', axis=1, inplace=True)\n",
    "iq_test_features.drop('week_start_date', axis=1, inplace=True)\n",
    "\n",
    "sj_test_features.fillna(method='ffill', inplace=True)\n",
    "iq_test_features.fillna(method='ffill', inplace=True)\n",
    "\n",
    "\n",
    "sj_test_features = sj_test_features.as_matrix()[:, [4, 7, 10, 11, 15, 16, 19]]\n",
    "iq_test_features = iq_test_features.as_matrix()[:, [4, 7, 10, 11, 15, 16, 19]]\n",
    "\n",
    "sj_predictions = list(classifier.predict(sj_test_features, as_iterable=True))\n",
    "iq_predictions = list(classifier2.predict(iq_test_features, as_iterable=True))\n",
    "\n",
    "sj_predictions = [int(round(guess)) for guess in sj_predictions]\n",
    "iq_predictions = [int(round(guess)) for guess in iq_predictions]\n",
    "\n",
    "submission = pd.read_csv('submission_format.csv', index_col=[0, 1, 2])\n",
    "submission.total_cases = np.concatenate([sj_predictions, iq_predictions])\n",
    "submission.to_csv('answersv1.csv')"
   ]
  },
  {
   "cell_type": "code",
   "execution_count": null,
   "metadata": {
    "collapsed": true
   },
   "outputs": [],
   "source": [
    "num_epochs = 30\n",
    "truncated_backprop_length = 8\n",
    "state_size = 20\n",
    "num_classes = 1\n",
    "batch_size = 1\n"
   ]
  },
  {
   "cell_type": "code",
   "execution_count": null,
   "metadata": {
    "collapsed": true
   },
   "outputs": [],
   "source": [
    "batchX_placeholder = tf.placeholder(tf.float32, [batch_size, truncated_backprop_length])\n",
    "batchY_placeholder = tf.placeholder(tf.float32, [truncated_backprop_length, 1])"
   ]
  },
  {
   "cell_type": "code",
   "execution_count": null,
   "metadata": {
    "collapsed": true
   },
   "outputs": [],
   "source": [
    "init_state = tf.placeholder(tf.float32, [1, state_size])"
   ]
  },
  {
   "cell_type": "code",
   "execution_count": null,
   "metadata": {
    "collapsed": true
   },
   "outputs": [],
   "source": [
    "inputs_series = tf.split(batchX_placeholder, truncated_backprop_length, 1)"
   ]
  },
  {
   "cell_type": "code",
   "execution_count": null,
   "metadata": {
    "collapsed": true
   },
   "outputs": [],
   "source": [
    "cell = tf.contrib.rnn.core_rnn_cell.BasicRNNCell(state_size)"
   ]
  },
  {
   "cell_type": "code",
   "execution_count": null,
   "metadata": {
    "collapsed": true
   },
   "outputs": [],
   "source": [
    "with tf.variable_scope('rnn'):\n",
    "    states_series, current_state = tf.contrib.rnn.static_rnn(cell, inputs_series, init_state)"
   ]
  },
  {
   "cell_type": "code",
   "execution_count": null,
   "metadata": {
    "collapsed": true
   },
   "outputs": [],
   "source": [
    "W2 = tf.Variable(np.random.rand(state_size, num_classes),dtype=tf.float32)\n",
    "b2 = tf.Variable(np.zeros((1,num_classes)), dtype=tf.float32)"
   ]
  },
  {
   "cell_type": "code",
   "execution_count": null,
   "metadata": {
    "collapsed": true
   },
   "outputs": [],
   "source": [
    "logits_series = [tf.matmul(state, W2) + b2 for state in states_series]"
   ]
  },
  {
   "cell_type": "code",
   "execution_count": null,
   "metadata": {
    "collapsed": true
   },
   "outputs": [],
   "source": [
    "labels_series = tf.unstack(batchY_placeholder, axis=1)"
   ]
  },
  {
   "cell_type": "code",
   "execution_count": null,
   "metadata": {
    "collapsed": true
   },
   "outputs": [],
   "source": [
    "losses = [tf.contrib.losses.mean_squared_error(predictions=tf.squeeze(logits), labels=labels) for logits, \n",
    "          labels in zip([tf.unstack(logits_series)], labels_series)]\n",
    "total_loss = tf.reduce_mean(losses)"
   ]
  },
  {
   "cell_type": "code",
   "execution_count": null,
   "metadata": {
    "collapsed": true
   },
   "outputs": [],
   "source": [
    "train_step = tf.train.AdagradOptimizer(0.01).minimize(total_loss)"
   ]
  },
  {
   "cell_type": "markdown",
   "metadata": {},
   "source": [
    "predictions_series = [tf.matmul(batchX_placeholder, tf.squeeze(logits_series, 1))]"
   ]
  },
  {
   "cell_type": "code",
   "execution_count": null,
   "metadata": {
    "collapsed": true
   },
   "outputs": [],
   "source": [
    "with tf.Session() as sess:\n",
    "    sess.run(tf.global_variables_initializer())\n",
    "    loss_list = []\n",
    "\n",
    "    for epoch_idx in range(num_epochs):\n",
    "        _current_state = np.zeros((batch_size, state_size))\n",
    "\n",
    "        print(\"New data, epoch\", epoch_idx)\n",
    "\n",
    "        for batch_idx in range(750//truncated_backprop_length - batch_size):\n",
    "            start_idx = batch_idx * truncated_backprop_length\n",
    "            end_idx = start_idx + truncated_backprop_length\n",
    "\n",
    "            batchX = [sj_predictions[start_idx:end_idx]]\n",
    "            batchY = train_y[start_idx:end_idx, :]\n",
    "\n",
    "            _total_loss, _train_step, _current_state, _predictions_series = sess.run(\n",
    "                [total_loss, train_step, current_state, predictions_series],\n",
    "                feed_dict={\n",
    "                    batchX_placeholder:batchX,\n",
    "                    batchY_placeholder:batchY,\n",
    "                    init_state:_current_state\n",
    "                })\n",
    "\n",
    "            loss_list.append(_total_loss)\n",
    "\n",
    "            if batch_idx%10 == 0:\n",
    "                print(\"Step\",batch_idx, \"Loss\", _total_loss)\n"
   ]
  }
 ],
 "metadata": {
  "kernelspec": {
   "display_name": "Python 3",
   "language": "python",
   "name": "python3"
  },
  "language_info": {
   "codemirror_mode": {
    "name": "ipython",
    "version": 3
   },
   "file_extension": ".py",
   "mimetype": "text/x-python",
   "name": "python",
   "nbconvert_exporter": "python",
   "pygments_lexer": "ipython3",
   "version": "3.6.0"
  }
 },
 "nbformat": 4,
 "nbformat_minor": 2
}
